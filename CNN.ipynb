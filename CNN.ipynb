{
 "cells": [
  {
   "cell_type": "code",
   "execution_count": 2,
   "id": "9ce7fc1d-00dd-462a-b5a7-aec837916850",
   "metadata": {
    "tags": []
   },
   "outputs": [
    {
     "name": "stderr",
     "output_type": "stream",
     "text": [
      "C:\\Users\\ADMIN\\AppData\\Local\\Temp\\ipykernel_31520\\359670903.py:29: VisibleDeprecationWarning: Creating an ndarray from ragged nested sequences (which is a list-or-tuple of lists-or-tuples-or ndarrays with different lengths or shapes) is deprecated. If you meant to do this, you must specify 'dtype=object' when creating the ndarray.\n",
      "  data = np.array(data)\n"
     ]
    },
    {
     "ename": "ValueError",
     "evalue": "could not broadcast input array from shape (30,30,3) into shape (30,30)",
     "output_type": "error",
     "traceback": [
      "\u001b[1;31m---------------------------------------------------------------------------\u001b[0m",
      "\u001b[1;31mValueError\u001b[0m                                Traceback (most recent call last)",
      "Cell \u001b[1;32mIn[2], line 29\u001b[0m\n\u001b[0;32m     27\u001b[0m         \u001b[38;5;28;01mexcept\u001b[39;00m: \n\u001b[0;32m     28\u001b[0m             \u001b[38;5;28mprint\u001b[39m(\u001b[38;5;124m\"\u001b[39m\u001b[38;5;124mError loading image\u001b[39m\u001b[38;5;124m\"\u001b[39m) \n\u001b[1;32m---> 29\u001b[0m data \u001b[38;5;241m=\u001b[39m \u001b[43mnp\u001b[49m\u001b[38;5;241;43m.\u001b[39;49m\u001b[43marray\u001b[49m\u001b[43m(\u001b[49m\u001b[43mdata\u001b[49m\u001b[43m)\u001b[49m\n\u001b[0;32m     30\u001b[0m labels \u001b[38;5;241m=\u001b[39m np\u001b[38;5;241m.\u001b[39marray(labels)\n\u001b[0;32m     31\u001b[0m \u001b[38;5;28mlen\u001b[39m(data)\n",
      "\u001b[1;31mValueError\u001b[0m: could not broadcast input array from shape (30,30,3) into shape (30,30)"
     ]
    }
   ],
   "source": [
    "import numpy as np\n",
    "import pandas as pd\n",
    "import matplotlib.pyplot as plt\n",
    "import tensorflow as tf \n",
    "from PIL import Image\n",
    "import os \n",
    "from sklearn.model_selection import train_test_split \n",
    "from keras.utils import to_categorical \n",
    "from keras.models import Sequential \n",
    "from keras.layers import Conv2D, MaxPool2D, Dense, Flatten, Dropout\n",
    "\n",
    "data = []\n",
    "labels = []\n",
    "classes = 43 \n",
    "cur_path = os.getcwd() \n",
    "\n",
    "for i in range(classes): \n",
    "    path = os. path.join(cur_path,'./road/Train', str(i)) \n",
    "    images = os.listdir(path) \n",
    "    for a in images: \n",
    "        try: \n",
    "            image = Image.open(path + '/'+ a) \n",
    "            image = image.resize((30,30)) \n",
    "            image = np.array(image) \n",
    "            data.append(image) \n",
    "            labels.append(i) \n",
    "        except: \n",
    "            print(\"Error loading image\") \n",
    "data = np.array(data)\n",
    "labels = np.array(labels)\n",
    "len(data)"
   ]
  },
  {
   "cell_type": "code",
   "execution_count": 5,
   "id": "401917b9-0e44-4fe2-b336-6062af18f667",
   "metadata": {
    "tags": []
   },
   "outputs": [
    {
     "name": "stdout",
     "output_type": "stream",
     "text": [
      "(39209, 30, 30, 3) (39209,)\n",
      "(31367, 30, 30, 3) (7842, 30, 30, 3) (31367,) (7842,)\n"
     ]
    }
   ],
   "source": [
    "print(data.shape, labels.shape)\n",
    "#Splitting training and testing dataset\n",
    "X_t1, X_t2, y_t1, y_t2 = train_test_split(data, labels, test_size=0.2, random_state=42)\n",
    "print(X_t1.shape, X_t2.shape, y_t1.shape, y_t2.shape)\n",
    "#Converting the labels into one hot encoding\n",
    "y_t1 = to_categorical(y_t1, 43)\n",
    "y_t2 = to_categorical(y_t2, 43)"
   ]
  },
  {
   "cell_type": "code",
   "execution_count": 7,
   "id": "eeca31fb-5191-4d70-be56-c08d70e3f1e8",
   "metadata": {
    "tags": []
   },
   "outputs": [],
   "source": [
    "model = Sequential()\n",
    "model.add(Conv2D(filters=32, kernel_size=(5,5), activation='relu', input_shape=X_t1.shape[1:]))\n",
    "model.add(Conv2D(filters=32, kernel_size=(5,5), activation='relu'))\n",
    "model.add(MaxPool2D(pool_size=(2, 2)))\n",
    "model.add(Dropout(rate=0.25))\n",
    "model.add(Conv2D(filters=64, kernel_size=(3, 3), activation='relu'))\n",
    "model.add(Conv2D(filters=64, kernel_size=(3, 3), activation='relu'))\n",
    "model.add(MaxPool2D(pool_size=(2, 2)))\n",
    "model.add(Dropout(rate=0.25))\n",
    "model.add(Flatten())\n",
    "model.add(Dense(256, activation='relu'))\n",
    "model.add(Dropout(rate=0.5))\n",
    "model.add(Dense(43, activation='softmax'))\n",
    "#Compilation of the model\n",
    "model.compile(loss='categorical_crossentropy', optimizer='adam', metrics=['accuracy'])"
   ]
  },
  {
   "cell_type": "code",
   "execution_count": 8,
   "id": "d1d8564d-67d8-4789-a66c-ebb8adc853bd",
   "metadata": {
    "tags": []
   },
   "outputs": [
    {
     "name": "stdout",
     "output_type": "stream",
     "text": [
      "Epoch 1/15\n",
      "981/981 [==============================] - 46s 46ms/step - loss: 2.1084 - accuracy: 0.4679 - val_loss: 0.6048 - val_accuracy: 0.8590\n",
      "Epoch 2/15\n",
      "981/981 [==============================] - 52s 53ms/step - loss: 0.8487 - accuracy: 0.7557 - val_loss: 0.3369 - val_accuracy: 0.9100\n",
      "Epoch 3/15\n",
      "981/981 [==============================] - 51s 52ms/step - loss: 0.6201 - accuracy: 0.8189 - val_loss: 0.2432 - val_accuracy: 0.9236\n",
      "Epoch 4/15\n",
      "981/981 [==============================] - 51s 52ms/step - loss: 0.5340 - accuracy: 0.8440 - val_loss: 0.2065 - val_accuracy: 0.9393\n",
      "Epoch 5/15\n",
      "981/981 [==============================] - 51s 52ms/step - loss: 0.4452 - accuracy: 0.8673 - val_loss: 0.1594 - val_accuracy: 0.9513\n",
      "Epoch 6/15\n",
      "981/981 [==============================] - 51s 52ms/step - loss: 0.4121 - accuracy: 0.8769 - val_loss: 0.1202 - val_accuracy: 0.9666\n",
      "Epoch 7/15\n",
      "981/981 [==============================] - 55s 56ms/step - loss: 0.3696 - accuracy: 0.8899 - val_loss: 0.1026 - val_accuracy: 0.9685\n",
      "Epoch 8/15\n",
      "981/981 [==============================] - 52s 53ms/step - loss: 0.3472 - accuracy: 0.8988 - val_loss: 0.1145 - val_accuracy: 0.9660\n",
      "Epoch 9/15\n",
      "981/981 [==============================] - 50s 51ms/step - loss: 0.3329 - accuracy: 0.9025 - val_loss: 0.1118 - val_accuracy: 0.9648\n",
      "Epoch 10/15\n",
      "981/981 [==============================] - 49s 50ms/step - loss: 0.2855 - accuracy: 0.9178 - val_loss: 0.1212 - val_accuracy: 0.9637\n",
      "Epoch 11/15\n",
      "981/981 [==============================] - 49s 50ms/step - loss: 0.2806 - accuracy: 0.9182 - val_loss: 0.0925 - val_accuracy: 0.9709\n",
      "Epoch 12/15\n",
      "981/981 [==============================] - 50s 51ms/step - loss: 0.2591 - accuracy: 0.9220 - val_loss: 0.0954 - val_accuracy: 0.9694\n",
      "Epoch 13/15\n",
      "981/981 [==============================] - 50s 51ms/step - loss: 0.2380 - accuracy: 0.9290 - val_loss: 0.0952 - val_accuracy: 0.9698\n",
      "Epoch 14/15\n",
      "981/981 [==============================] - 50s 51ms/step - loss: 0.2624 - accuracy: 0.9223 - val_loss: 0.1906 - val_accuracy: 0.9393\n",
      "Epoch 15/15\n",
      "981/981 [==============================] - 50s 51ms/step - loss: 0.2632 - accuracy: 0.9239 - val_loss: 0.0743 - val_accuracy: 0.9779\n"
     ]
    }
   ],
   "source": [
    "eps = 15\n",
    "anc = model.fit(X_t1, y_t1, batch_size=32, epochs=eps, validation_data=(X_t2, y_t2))"
   ]
  },
  {
   "cell_type": "code",
   "execution_count": 17,
   "id": "e2c1a07b-d9bc-462d-bbea-34bc65a8e6b6",
   "metadata": {
    "tags": []
   },
   "outputs": [],
   "source": [
    "#testing accuracy on test dataset\n",
    "from sklearn.metrics import accuracy_score\n",
    "y_test = pd.read_csv('./road/Test.csv')\n",
    "labels = y_test[\"ClassId\"].values\n",
    "imgs = y_test[\"Path\"].values\n",
    "data=[]\n",
    "for img in imgs:\n",
    "    image = Image.open('./road/' + img)\n",
    "    image = image.resize((30,30))\n",
    "    data.append(np.array(image))\n",
    "X_test = np.array(data)"
   ]
  },
  {
   "cell_type": "code",
   "execution_count": 20,
   "id": "3a7e73d9-141a-4f32-90f8-6d1c4b1fb6f4",
   "metadata": {
    "tags": []
   },
   "outputs": [
    {
     "name": "stdout",
     "output_type": "stream",
     "text": [
      "395/395 [==============================] - 3s 8ms/step\n",
      "[[1.5049143e-25 6.4249314e-18 2.8344870e-18 ... 3.7354841e-10\n",
      "  3.8872060e-19 1.9691699e-23]\n",
      " [9.0390949e-13 9.9999321e-01 4.8300734e-07 ... 3.5798769e-19\n",
      "  1.0983592e-34 7.1054115e-33]\n",
      " [0.0000000e+00 0.0000000e+00 0.0000000e+00 ... 0.0000000e+00\n",
      "  0.0000000e+00 0.0000000e+00]\n",
      " ...\n",
      " [1.6240034e-05 2.0507220e-02 2.2116829e-01 ... 1.6110933e-05\n",
      "  2.9747187e-05 2.5785975e-03]\n",
      " [3.3064992e-10 1.8825796e-05 2.4849362e-07 ... 1.0781520e-06\n",
      "  3.2895727e-13 5.7781538e-08]\n",
      " [1.2862567e-09 1.3224446e-06 6.7557266e-05 ... 3.4864926e-05\n",
      "  1.6458348e-07 1.8015459e-06]]\n"
     ]
    }
   ],
   "source": [
    "pred = model.predict(X_test)\n",
    "#Accuracy with the test data\n",
    "print(pred)\n",
    "# from sklearn.metrics import accuracy_score\n",
    "# print(accuracy_score(labels, pred))\n",
    "model.save('traffic_classifier.h5')"
   ]
  },
  {
   "cell_type": "code",
   "execution_count": 21,
   "id": "6687b51b-6f89-4b09-aa5a-817e2930e485",
   "metadata": {
    "tags": []
   },
   "outputs": [],
   "source": [
    "model.save('traffic_classifier.h5')"
   ]
  },
  {
   "cell_type": "code",
   "execution_count": null,
   "id": "80df4468-df30-4760-82c7-247b6edc185f",
   "metadata": {},
   "outputs": [],
   "source": []
  }
 ],
 "metadata": {
  "kernelspec": {
   "display_name": "Python 3 (ipykernel)",
   "language": "python",
   "name": "python3"
  },
  "language_info": {
   "codemirror_mode": {
    "name": "ipython",
    "version": 3
   },
   "file_extension": ".py",
   "mimetype": "text/x-python",
   "name": "python",
   "nbconvert_exporter": "python",
   "pygments_lexer": "ipython3",
   "version": "3.10.5"
  }
 },
 "nbformat": 4,
 "nbformat_minor": 5
}
